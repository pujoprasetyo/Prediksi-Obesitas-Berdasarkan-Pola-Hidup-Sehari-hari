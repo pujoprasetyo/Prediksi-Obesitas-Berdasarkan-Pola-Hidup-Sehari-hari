{
 "cells": [
  {
   "cell_type": "markdown",
   "metadata": {},
   "source": [
    "=================================================\n",
    "\n",
    "Milestone 2\n",
    "\n",
    "Nama : Pujo Prasetyo Aji\n",
    "\n",
    "Email : pujo.prasetyoaji@gmail.com\n",
    "\n",
    "Objective : \n",
    "\n",
    "Notebook ini digunakan untuk melakukan proses inference untuk menguji model machine learning dengan algoritma CatBoost yang telah dibuat\n",
    "\n",
    "================================================="
   ]
  },
  {
   "cell_type": "markdown",
   "metadata": {},
   "source": [
    "# I. Import Library"
   ]
  },
  {
   "cell_type": "markdown",
   "metadata": {},
   "source": [
    "Bagian ini digunakan untuk memuat library yang dibutuhkan"
   ]
  },
  {
   "cell_type": "code",
   "execution_count": 1,
   "metadata": {},
   "outputs": [],
   "source": [
    "#import library\n",
    "import pickle\n",
    "import json\n",
    "import pandas as pd"
   ]
  },
  {
   "cell_type": "markdown",
   "metadata": {},
   "source": [
    "# Load Files"
   ]
  },
  {
   "cell_type": "markdown",
   "metadata": {},
   "source": [
    "Bagian ini digunakan untuk memuat data reference"
   ]
  },
  {
   "cell_type": "code",
   "execution_count": 2,
   "metadata": {},
   "outputs": [],
   "source": [
    "##Load Files\n",
    "cat_columns = json.load(open('list_cat_cols.txt', 'r'))\n",
    "num_columns = json.load(open('list_num_cols.txt', 'r'))\n",
    "model_catboost = pickle.load(open('model_CatBoost.pkl', 'rb'))"
   ]
  },
  {
   "cell_type": "markdown",
   "metadata": {},
   "source": [
    "# Create New Data"
   ]
  },
  {
   "cell_type": "markdown",
   "metadata": {},
   "source": [
    "Bagian ini digunakan untuk membuat data baru yang berbeda dari dataset sebelumnya"
   ]
  },
  {
   "cell_type": "code",
   "execution_count": 3,
   "metadata": {},
   "outputs": [
    {
     "data": {
      "text/html": [
       "<div>\n",
       "<style scoped>\n",
       "    .dataframe tbody tr th:only-of-type {\n",
       "        vertical-align: middle;\n",
       "    }\n",
       "\n",
       "    .dataframe tbody tr th {\n",
       "        vertical-align: top;\n",
       "    }\n",
       "\n",
       "    .dataframe thead th {\n",
       "        text-align: right;\n",
       "    }\n",
       "</style>\n",
       "<table border=\"1\" class=\"dataframe\">\n",
       "  <thead>\n",
       "    <tr style=\"text-align: right;\">\n",
       "      <th></th>\n",
       "      <th>Gender</th>\n",
       "      <th>Age</th>\n",
       "      <th>Height</th>\n",
       "      <th>Weight</th>\n",
       "      <th>genetic_overweight</th>\n",
       "      <th>Eating_High_Calories</th>\n",
       "      <th>Eating_Vegi_Freq</th>\n",
       "      <th>Daily_Meals</th>\n",
       "      <th>Eating_Snack_Freq</th>\n",
       "      <th>SMOKE</th>\n",
       "      <th>Daily_Water</th>\n",
       "      <th>Calories_Monitoring</th>\n",
       "      <th>Physical_Activity_Freq</th>\n",
       "      <th>Alcohol_Freq</th>\n",
       "      <th>MTRANS</th>\n",
       "    </tr>\n",
       "  </thead>\n",
       "  <tbody>\n",
       "    <tr>\n",
       "      <th>0</th>\n",
       "      <td>Male</td>\n",
       "      <td>28</td>\n",
       "      <td>176</td>\n",
       "      <td>85</td>\n",
       "      <td>no</td>\n",
       "      <td>yes</td>\n",
       "      <td>Always</td>\n",
       "      <td>2</td>\n",
       "      <td>Sometimes</td>\n",
       "      <td>yes</td>\n",
       "      <td>2.5</td>\n",
       "      <td>no</td>\n",
       "      <td>1.5</td>\n",
       "      <td>no</td>\n",
       "      <td>Motorbike</td>\n",
       "    </tr>\n",
       "    <tr>\n",
       "      <th>1</th>\n",
       "      <td>Female</td>\n",
       "      <td>27</td>\n",
       "      <td>166</td>\n",
       "      <td>52</td>\n",
       "      <td>no</td>\n",
       "      <td>yes</td>\n",
       "      <td>Sometimes</td>\n",
       "      <td>3</td>\n",
       "      <td>Sometimes</td>\n",
       "      <td>no</td>\n",
       "      <td>2.0</td>\n",
       "      <td>no</td>\n",
       "      <td>2.5</td>\n",
       "      <td>no</td>\n",
       "      <td>Walking</td>\n",
       "    </tr>\n",
       "    <tr>\n",
       "      <th>2</th>\n",
       "      <td>Male</td>\n",
       "      <td>238</td>\n",
       "      <td>180</td>\n",
       "      <td>135</td>\n",
       "      <td>yes</td>\n",
       "      <td>yes</td>\n",
       "      <td>Sometimes</td>\n",
       "      <td>3</td>\n",
       "      <td>Sometimes</td>\n",
       "      <td>no</td>\n",
       "      <td>2.5</td>\n",
       "      <td>no</td>\n",
       "      <td>1.0</td>\n",
       "      <td>yes</td>\n",
       "      <td>Public_Transportation</td>\n",
       "    </tr>\n",
       "  </tbody>\n",
       "</table>\n",
       "</div>"
      ],
      "text/plain": [
       "   Gender  Age  Height  Weight genetic_overweight Eating_High_Calories  \\\n",
       "0    Male   28     176      85                 no                  yes   \n",
       "1  Female   27     166      52                 no                  yes   \n",
       "2    Male  238     180     135                yes                  yes   \n",
       "\n",
       "  Eating_Vegi_Freq  Daily_Meals Eating_Snack_Freq SMOKE  Daily_Water  \\\n",
       "0           Always            2         Sometimes   yes          2.5   \n",
       "1        Sometimes            3         Sometimes    no          2.0   \n",
       "2        Sometimes            3         Sometimes    no          2.5   \n",
       "\n",
       "  Calories_Monitoring  Physical_Activity_Freq Alcohol_Freq  \\\n",
       "0                  no                     1.5           no   \n",
       "1                  no                     2.5           no   \n",
       "2                  no                     1.0          yes   \n",
       "\n",
       "                  MTRANS  \n",
       "0              Motorbike  \n",
       "1                Walking  \n",
       "2  Public_Transportation  "
      ]
     },
     "execution_count": 3,
     "metadata": {},
     "output_type": "execute_result"
    }
   ],
   "source": [
    "#Membuat data baru\n",
    "data_inf = [\n",
    "    {\n",
    "        'Gender': 'Male',\n",
    "        'Age': 28,\n",
    "        'Height': 176,\n",
    "        'Weight': 85,\n",
    "        'genetic_overweight': 'no',\n",
    "        'Eating_High_Calories': 'yes',\n",
    "        'Eating_Vegi_Freq': 'Always',\n",
    "        'Daily_Meals': 2,\n",
    "        'Eating_Snack_Freq': 'Sometimes',\n",
    "        'SMOKE': 'yes',\n",
    "        'Daily_Water': 2.5,\n",
    "        'Calories_Monitoring': 'no',\n",
    "        'Physical_Activity_Freq': 1.5,\n",
    "        'Alcohol_Freq': 'no',\n",
    "        'MTRANS': 'Motorbike'\n",
    "    },\n",
    "    {\n",
    "        'Gender': 'Female',\n",
    "        'Age': 27,\n",
    "        'Height': 166,\n",
    "        'Weight': 52,\n",
    "        'genetic_overweight': 'no',\n",
    "        'Eating_High_Calories': 'yes',\n",
    "        'Eating_Vegi_Freq': 'Sometimes',\n",
    "        'Daily_Meals': 3,\n",
    "        'Eating_Snack_Freq': 'Sometimes',\n",
    "        'SMOKE': 'no',\n",
    "        'Daily_Water': 2,\n",
    "        'Calories_Monitoring': 'no',\n",
    "        'Physical_Activity_Freq': 2.5,\n",
    "        'Alcohol_Freq': 'no',\n",
    "        'MTRANS': 'Walking'\n",
    "    },\n",
    "    {\n",
    "        'Gender': 'Male',\n",
    "        'Age': 238,\n",
    "        'Height': 180,\n",
    "        'Weight': 135,\n",
    "        'genetic_overweight': 'yes',\n",
    "        'Eating_High_Calories': 'yes',\n",
    "        'Eating_Vegi_Freq': 'Sometimes',\n",
    "        'Daily_Meals': 3,\n",
    "        'Eating_Snack_Freq': 'Sometimes',\n",
    "        'SMOKE': 'no',\n",
    "        'Daily_Water': 2.5,\n",
    "        'Calories_Monitoring': 'no',\n",
    "        'Physical_Activity_Freq': 1,\n",
    "        'Alcohol_Freq': 'yes',\n",
    "        'MTRANS': 'Public_Transportation'\n",
    "    }\n",
    "]\n",
    "\n",
    "data_inf = pd.DataFrame(data_inf)\n",
    "data_inf"
   ]
  },
  {
   "cell_type": "markdown",
   "metadata": {},
   "source": [
    "Setelah data dibuat, data dibagi berdasarkan kolom numerikal dan kategorikal seperti yang ada pada model reference"
   ]
  },
  {
   "cell_type": "code",
   "execution_count": 4,
   "metadata": {},
   "outputs": [
    {
     "data": {
      "text/html": [
       "<div>\n",
       "<style scoped>\n",
       "    .dataframe tbody tr th:only-of-type {\n",
       "        vertical-align: middle;\n",
       "    }\n",
       "\n",
       "    .dataframe tbody tr th {\n",
       "        vertical-align: top;\n",
       "    }\n",
       "\n",
       "    .dataframe thead th {\n",
       "        text-align: right;\n",
       "    }\n",
       "</style>\n",
       "<table border=\"1\" class=\"dataframe\">\n",
       "  <thead>\n",
       "    <tr style=\"text-align: right;\">\n",
       "      <th></th>\n",
       "      <th>Gender</th>\n",
       "      <th>genetic_overweight</th>\n",
       "      <th>Eating_High_Calories</th>\n",
       "      <th>Eating_Vegi_Freq</th>\n",
       "      <th>Eating_Snack_Freq</th>\n",
       "      <th>SMOKE</th>\n",
       "      <th>Calories_Monitoring</th>\n",
       "      <th>Alcohol_Freq</th>\n",
       "      <th>MTRANS</th>\n",
       "    </tr>\n",
       "  </thead>\n",
       "  <tbody>\n",
       "    <tr>\n",
       "      <th>0</th>\n",
       "      <td>Male</td>\n",
       "      <td>no</td>\n",
       "      <td>yes</td>\n",
       "      <td>Always</td>\n",
       "      <td>Sometimes</td>\n",
       "      <td>yes</td>\n",
       "      <td>no</td>\n",
       "      <td>no</td>\n",
       "      <td>Motorbike</td>\n",
       "    </tr>\n",
       "    <tr>\n",
       "      <th>1</th>\n",
       "      <td>Female</td>\n",
       "      <td>no</td>\n",
       "      <td>yes</td>\n",
       "      <td>Sometimes</td>\n",
       "      <td>Sometimes</td>\n",
       "      <td>no</td>\n",
       "      <td>no</td>\n",
       "      <td>no</td>\n",
       "      <td>Walking</td>\n",
       "    </tr>\n",
       "    <tr>\n",
       "      <th>2</th>\n",
       "      <td>Male</td>\n",
       "      <td>yes</td>\n",
       "      <td>yes</td>\n",
       "      <td>Sometimes</td>\n",
       "      <td>Sometimes</td>\n",
       "      <td>no</td>\n",
       "      <td>no</td>\n",
       "      <td>yes</td>\n",
       "      <td>Public_Transportation</td>\n",
       "    </tr>\n",
       "  </tbody>\n",
       "</table>\n",
       "</div>"
      ],
      "text/plain": [
       "   Gender genetic_overweight Eating_High_Calories Eating_Vegi_Freq  \\\n",
       "0    Male                 no                  yes           Always   \n",
       "1  Female                 no                  yes        Sometimes   \n",
       "2    Male                yes                  yes        Sometimes   \n",
       "\n",
       "  Eating_Snack_Freq SMOKE Calories_Monitoring Alcohol_Freq  \\\n",
       "0         Sometimes   yes                  no           no   \n",
       "1         Sometimes    no                  no           no   \n",
       "2         Sometimes    no                  no          yes   \n",
       "\n",
       "                  MTRANS  \n",
       "0              Motorbike  \n",
       "1                Walking  \n",
       "2  Public_Transportation  "
      ]
     },
     "execution_count": 4,
     "metadata": {},
     "output_type": "execute_result"
    }
   ],
   "source": [
    "#Memanggil data numerik dan kategorikal\n",
    "data_inf_num = data_inf[num_columns]\n",
    "data_inf_cat = data_inf[cat_columns]\n",
    "data_inf_cat"
   ]
  },
  {
   "cell_type": "markdown",
   "metadata": {},
   "source": [
    "Setelahnya data numerik dan kategori disatukan kembali menjadi data final"
   ]
  },
  {
   "cell_type": "code",
   "execution_count": 5,
   "metadata": {},
   "outputs": [
    {
     "data": {
      "text/html": [
       "<div>\n",
       "<style scoped>\n",
       "    .dataframe tbody tr th:only-of-type {\n",
       "        vertical-align: middle;\n",
       "    }\n",
       "\n",
       "    .dataframe tbody tr th {\n",
       "        vertical-align: top;\n",
       "    }\n",
       "\n",
       "    .dataframe thead th {\n",
       "        text-align: right;\n",
       "    }\n",
       "</style>\n",
       "<table border=\"1\" class=\"dataframe\">\n",
       "  <thead>\n",
       "    <tr style=\"text-align: right;\">\n",
       "      <th></th>\n",
       "      <th>Age</th>\n",
       "      <th>Height</th>\n",
       "      <th>Weight</th>\n",
       "      <th>Daily_Meals</th>\n",
       "      <th>Daily_Water</th>\n",
       "      <th>Physical_Activity_Freq</th>\n",
       "      <th>Gender</th>\n",
       "      <th>genetic_overweight</th>\n",
       "      <th>Eating_High_Calories</th>\n",
       "      <th>Eating_Vegi_Freq</th>\n",
       "      <th>Eating_Snack_Freq</th>\n",
       "      <th>SMOKE</th>\n",
       "      <th>Calories_Monitoring</th>\n",
       "      <th>Alcohol_Freq</th>\n",
       "      <th>MTRANS</th>\n",
       "    </tr>\n",
       "  </thead>\n",
       "  <tbody>\n",
       "    <tr>\n",
       "      <th>0</th>\n",
       "      <td>28</td>\n",
       "      <td>176</td>\n",
       "      <td>85</td>\n",
       "      <td>2</td>\n",
       "      <td>2.5</td>\n",
       "      <td>1.5</td>\n",
       "      <td>Male</td>\n",
       "      <td>no</td>\n",
       "      <td>yes</td>\n",
       "      <td>Always</td>\n",
       "      <td>Sometimes</td>\n",
       "      <td>yes</td>\n",
       "      <td>no</td>\n",
       "      <td>no</td>\n",
       "      <td>Motorbike</td>\n",
       "    </tr>\n",
       "    <tr>\n",
       "      <th>1</th>\n",
       "      <td>27</td>\n",
       "      <td>166</td>\n",
       "      <td>52</td>\n",
       "      <td>3</td>\n",
       "      <td>2.0</td>\n",
       "      <td>2.5</td>\n",
       "      <td>Female</td>\n",
       "      <td>no</td>\n",
       "      <td>yes</td>\n",
       "      <td>Sometimes</td>\n",
       "      <td>Sometimes</td>\n",
       "      <td>no</td>\n",
       "      <td>no</td>\n",
       "      <td>no</td>\n",
       "      <td>Walking</td>\n",
       "    </tr>\n",
       "    <tr>\n",
       "      <th>2</th>\n",
       "      <td>238</td>\n",
       "      <td>180</td>\n",
       "      <td>135</td>\n",
       "      <td>3</td>\n",
       "      <td>2.5</td>\n",
       "      <td>1.0</td>\n",
       "      <td>Male</td>\n",
       "      <td>yes</td>\n",
       "      <td>yes</td>\n",
       "      <td>Sometimes</td>\n",
       "      <td>Sometimes</td>\n",
       "      <td>no</td>\n",
       "      <td>no</td>\n",
       "      <td>yes</td>\n",
       "      <td>Public_Transportation</td>\n",
       "    </tr>\n",
       "  </tbody>\n",
       "</table>\n",
       "</div>"
      ],
      "text/plain": [
       "   Age  Height  Weight  Daily_Meals  Daily_Water  Physical_Activity_Freq  \\\n",
       "0   28     176      85            2          2.5                     1.5   \n",
       "1   27     166      52            3          2.0                     2.5   \n",
       "2  238     180     135            3          2.5                     1.0   \n",
       "\n",
       "   Gender genetic_overweight Eating_High_Calories Eating_Vegi_Freq  \\\n",
       "0    Male                 no                  yes           Always   \n",
       "1  Female                 no                  yes        Sometimes   \n",
       "2    Male                yes                  yes        Sometimes   \n",
       "\n",
       "  Eating_Snack_Freq SMOKE Calories_Monitoring Alcohol_Freq  \\\n",
       "0         Sometimes   yes                  no           no   \n",
       "1         Sometimes    no                  no           no   \n",
       "2         Sometimes    no                  no          yes   \n",
       "\n",
       "                  MTRANS  \n",
       "0              Motorbike  \n",
       "1                Walking  \n",
       "2  Public_Transportation  "
      ]
     },
     "execution_count": 5,
     "metadata": {},
     "output_type": "execute_result"
    }
   ],
   "source": [
    "#Menyatukan kembali numerikal dan kategorikal kolom\n",
    "data_inf_final = pd.concat([data_inf_num, data_inf_cat], axis=1)\n",
    "data_inf_final"
   ]
  },
  {
   "cell_type": "markdown",
   "metadata": {},
   "source": [
    "# Predict Data"
   ]
  },
  {
   "cell_type": "markdown",
   "metadata": {},
   "source": [
    "Tahap terakhir dilakukan prediksi data menggunakan model yang sudah dibuat"
   ]
  },
  {
   "cell_type": "code",
   "execution_count": 6,
   "metadata": {},
   "outputs": [
    {
     "name": "stdout",
     "output_type": "stream",
     "text": [
      "Hasil prediksi: [['Overweight_Level_I']\n",
      " ['Insufficient_Weight']\n",
      " ['Obesity_Type_II']]\n"
     ]
    }
   ],
   "source": [
    "# Menggunakan model untuk prediksi\n",
    "y_pred = model_catboost.predict(data_inf_final)\n",
    "print(\"Hasil prediksi:\", y_pred)"
   ]
  },
  {
   "cell_type": "markdown",
   "metadata": {},
   "source": [
    "Hasil prediksi model CatBoost pada data baru menunjukkan bahwa data pertama terdeteksi mengalami overweight level 1, \\\n",
    "pada data kedua orang tersebut memiliki berat badan yang kurang ideal, \\\n",
    "sedangkan pada data kegita orang tersebut terdeteksi memiliki obesitas tipe 2."
   ]
  }
 ],
 "metadata": {
  "kernelspec": {
   "display_name": "base",
   "language": "python",
   "name": "python3"
  },
  "language_info": {
   "codemirror_mode": {
    "name": "ipython",
    "version": 3
   },
   "file_extension": ".py",
   "mimetype": "text/x-python",
   "name": "python",
   "nbconvert_exporter": "python",
   "pygments_lexer": "ipython3",
   "version": "3.12.7"
  }
 },
 "nbformat": 4,
 "nbformat_minor": 2
}
